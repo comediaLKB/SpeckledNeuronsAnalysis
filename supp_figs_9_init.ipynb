{
 "cells": [
  {
   "cell_type": "code",
   "execution_count": 1,
   "metadata": {},
   "outputs": [],
   "source": [
    "%load_ext autoreload\n",
    "%autoreload 2\n",
    "\n",
    "import numpy as np\n",
    "import matplotlib.pyplot as plt\n",
    "import matplotlib as mpl\n",
    "import pandas as pd\n",
    "import seaborn as sns\n",
    "import matplotlib.cm as cm\n",
    "import speckle_stuffs as spkstf\n",
    "import pickle\n",
    "import scipy\n",
    "import os\n",
    "import pandas as pd\n",
    "import seaborn as sns\n",
    "sns.set()"
   ]
  },
  {
   "cell_type": "code",
   "execution_count": 2,
   "metadata": {},
   "outputs": [],
   "source": [
    "rootff = ''\n",
    "root_folder =  rootff+'/140760375914620/'\n",
    "pickles = [root_folder+ff for ff in os.listdir(root_folder) if ff.split('.')[-1]=='pickle']\n",
    "pickles.sort()"
   ]
  },
  {
   "cell_type": "code",
   "execution_count": 11,
   "metadata": {},
   "outputs": [],
   "source": [
    "ccmethod = 'zncc'\n",
    "\n",
    "df = pd.DataFrame(columns=['dataset','init','couplings'])\n",
    "\n",
    "for picklesource in pickles:\n",
    "    filehandler = open(picklesource, 'rb')\n",
    "    [extr_traces, extr_footprints, dpars] = pickle.load(filehandler)\n",
    "    filehandler.close()\n",
    "\n",
    "    gt =  rootff+picklesource.split('/')[-1].split('_')[1] + os.sep+ '_'.join((picklesource.split('/')[-1]).split('_')[:3])+'_gt.mat'                     \n",
    "    grtrh_traces = spkstf.extract_traces_from_mat(gt)\n",
    "    couplings = np.array(spkstf.find_trace_couplings(grtrh_traces, extr_traces, method=ccmethod))\n",
    "    # populate the dataframe\n",
    "    for cc in couplings[:,2]:\n",
    "        df = df.append({\n",
    "            'dataset':':'.join(picklesource.split('_')[1:2]),\n",
    "            'init':dpars['init'],\n",
    "            'couplings':cc\n",
    "        }, ignore_index=True)"
   ]
  },
  {
   "cell_type": "code",
   "execution_count": 12,
   "metadata": {},
   "outputs": [
    {
     "data": {
      "image/png": "[encoded data removed]",
      "text/plain": [
       "<Figure size 288x216 with 1 Axes>"
      ]
     },
     "metadata": {},
     "output_type": "display_data"
    }
   ],
   "source": [
    "fig = plt.figure(figsize=(4,3))\n",
    "\n",
    "sns.set(style=\"whitegrid\", palette=\"colorblind\")\n",
    "\n",
    "tips = sns.load_dataset(\"tips\")\n",
    "\n",
    "sns.boxplot(x=\"init\", y=\"couplings\", data=df,\n",
    "            showfliers=False, \n",
    "           )\n",
    "sns.despine(offset=10, trim=True)\n",
    "\n",
    "plt.xlabel('initialization')\n",
    "plt.ylabel('z.n. cross correlation')\n",
    "plt.show()"
   ]
  }
 ],
 "metadata": {
  "kernelspec": {
   "display_name": "Python 3",
   "language": "python",
   "name": "python3"
  },
  "language_info": {
   "codemirror_mode": {
    "name": "ipython",
    "version": 3
   },
   "file_extension": ".py",
   "mimetype": "text/x-python",
   "name": "python",
   "nbconvert_exporter": "python",
   "pygments_lexer": "ipython3",
   "version": "3.5.2"
  }
 },
 "nbformat": 4,
 "nbformat_minor": 2
}

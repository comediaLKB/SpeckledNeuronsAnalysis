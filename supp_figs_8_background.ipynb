{
 "cells": [
  {
   "cell_type": "code",
   "execution_count": 1,
   "metadata": {},
   "outputs": [],
   "source": [
    "%load_ext autoreload\n",
    "%autoreload 2\n",
    "\n",
    "import numpy as np\n",
    "import matplotlib.pyplot as plt\n",
    "import matplotlib as mpl\n",
    "import pandas as pd\n",
    "import seaborn as sns\n",
    "import matplotlib.cm as cm\n",
    "import speckle_stuffs as spkstf\n",
    "import pickle\n",
    "import scipy\n",
    "import os\n",
    "import pandas as pd\n",
    "import seaborn as sns\n",
    "sns.set()"
   ]
  },
  {
   "cell_type": "code",
   "execution_count": 2,
   "metadata": {},
   "outputs": [],
   "source": [
    "rootff = ''\n",
    "root_folder =  rootff+'/30850756806807/' # taken with 20 active and 40 non active, with more datapoints\n",
    "datas = [\n",
    "    [root_folder+'data_24102019_001_30850756806807_1190445998213073.pickle', 1.0],\n",
    "    [root_folder+'data_24102019_002_30850756806807_574935606883125.pickle', 0.5],\n",
    "    [root_folder+'data_24102019_003_30850756806807_712837508887617.pickle', 0.0],\n",
    "    [root_folder+'data_24102019_004_30850756806807_1122657623029904.pickle', 0.25],\n",
    "    [root_folder+'data_24102019_005_30850756806807_1067216341956363.pickle', 0.75],\n",
    "    [root_folder+'data_24102019_006_30850756806807_180269002544668.pickle', 0.5],\n",
    "    [root_folder+'data_24102019_007_30850756806807_1387577739451892.pickle', 0.0],\n",
    "    [root_folder+'data_24102019_008_30850756806807_1297910116143374.pickle', 1.0],\n",
    "    [root_folder+'data_24102019_009_30850756806807_785462165284252.pickle', 0.25],\n",
    "    [root_folder+'data_24102019_010_30850756806807_142953870558847.pickle', 0.75],\n",
    "    [root_folder+'data_25102019_001_30850756806807_1251352631445458.pickle', 0.25],\n",
    "    [root_folder+'data_25102019_002_30850756806807_117514517722759.pickle', 0.75],\n",
    "    [root_folder+'data_25102019_003_30850756806807_1090640460058845.pickle', 0.5],\n",
    "    [root_folder+'data_25102019_004_30850756806807_792281026246145.pickle', 0.0],\n",
    "    [root_folder+'data_25102019_005_30850756806807_1292646861168297.pickle', 1.0],\n",
    "    [root_folder+'data_25102019_006_30850756806807_1527796034051682.pickle', 0.25],\n",
    "    [root_folder+'data_25102019_007_30850756806807_215517781971437.pickle', 0.75],\n",
    "    [root_folder+'data_25102019_008_30850756806807_1491314098505561.pickle', 0.5],\n",
    "    [root_folder+'data_25102019_009_30850756806807_1370706989762585.pickle', 0.0],\n",
    "    [root_folder+'data_25102019_010_30850756806807_305666870174515.pickle', 1.0],\n",
    "    [root_folder+'data_25102019_011_30850756806807_282395377603257.pickle', 0.25],\n",
    "    [root_folder+'data_25102019_012_30850756806807_1234872299140370.pickle', 0.75],\n",
    "    [root_folder+'data_25102019_013_30850756806807_1480897115256717.pickle', 0.5],\n",
    "    [root_folder+'data_25102019_014_30850756806807_1467564462178801.pickle', 0.0],\n",
    "    [root_folder+'data_25102019_015_30850756806807_1571802820377880.pickle', 1.0]\n",
    "]"
   ]
  },
  {
   "cell_type": "code",
   "execution_count": 1,
   "metadata": {},
   "outputs": [],
   "source": [
    "ccmethod = 'zncc'\n",
    "\n",
    "datas.sort(key=lambda x:x[1])\n",
    "\n",
    "df = pd.DataFrame(columns=['dataset','bg_ratio','couplings'])\n",
    "\n",
    "for picklesource, rr in datas:\n",
    "    filehandler = open(picklesource, 'rb')\n",
    "    [extr_traces, extr_footprints, dpars] = pickle.load(filehandler)\n",
    "    filehandler.close()\n",
    "    # this dataset include also filtering with wrong parameters, so select the right ones with 1.5\n",
    "    if dpars['highfilter'] != 1.5 : continue\n",
    "    gt =  rootff+picklesource.split('/')[-1].split('_')[1] + os.sep+ '_'.join((picklesource.split('/')[-1]).split('_')[:3])+'_gt.mat'                     \n",
    "    grtrh_traces = spkstf.extract_traces_from_mat(gt)\n",
    "    try:\n",
    "        couplings = np.array(spkstf.find_trace_couplings(grtrh_traces, extr_traces, method=ccmethod))\n",
    "    except:\n",
    "    # populate the dataframe\n",
    "    for cc in couplings[:,2]:\n",
    "        df = df.append({\n",
    "            'dataset':':'.join(picklesource.split('_')[1:2]),\n",
    "            'bg_amount':rr*2,\n",
    "            'couplings':cc\n",
    "        }, ignore_index=True)"
   ]
  },
  {
   "cell_type": "code",
   "execution_count": 7,
   "metadata": {},
   "outputs": [
    {
     "data": {
      "image/png": "[encoded data removed]",
      "text/plain": [
       "<Figure size 360x216 with 1 Axes>"
      ]
     },
     "metadata": {},
     "output_type": "display_data"
    }
   ],
   "source": [
    "fig = plt.figure(figsize=(5,3))\n",
    "\n",
    "sns.set(style=\"whitegrid\", palette=\"colorblind\")\n",
    "\n",
    "sns.boxplot(x=\"bg_amount\", y=\"couplings\", data=df, showfliers=False)\n",
    "sns.despine(offset=10, trim=True)\n",
    "\n",
    "plt.xlabel('background over active sources ratio')\n",
    "plt.ylabel('z.n. cross correlation')\n",
    "\n",
    "plt.show()"
   ]
  }
 ],
 "metadata": {
  "kernelspec": {
   "display_name": "Python 3",
   "language": "python",
   "name": "python3"
  },
  "language_info": {
   "codemirror_mode": {
    "name": "ipython",
    "version": 3
   },
   "file_extension": ".py",
   "mimetype": "text/x-python",
   "name": "python",
   "nbconvert_exporter": "python",
   "pygments_lexer": "ipython3",
   "version": "3.5.2"
  }
 },
 "nbformat": 4,
 "nbformat_minor": 2
}

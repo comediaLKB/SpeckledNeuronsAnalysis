{
 "cells": [
  {
   "cell_type": "code",
   "execution_count": 13,
   "metadata": {},
   "outputs": [
    {
     "name": "stdout",
     "output_type": "stream",
     "text": [
      "The autoreload extension is already loaded. To reload it, use:\n",
      "  %reload_ext autoreload\n"
     ]
    }
   ],
   "source": [
    "%load_ext autoreload\n",
    "%autoreload 2\n",
    "\n",
    "import numpy as np\n",
    "import matplotlib.pyplot as plt\n",
    "import matplotlib as mpl\n",
    "import pandas as pd\n",
    "import seaborn as sns\n",
    "import matplotlib.cm as cm\n",
    "import speckle_stuffs as spkstf\n",
    "import pickle\n",
    "import scipy\n",
    "import os\n",
    "import pandas as pd\n",
    "import seaborn as sns\n",
    "sns.set()"
   ]
  },
  {
   "cell_type": "code",
   "execution_count": 3,
   "metadata": {},
   "outputs": [],
   "source": [
    "rootff = ''\n",
    "root_folder = rootff+'/138602451335454/' # missing a 10ms dataset. must add it and delete these\n",
    "datas = [       \n",
    "    [root_folder+'data_08102019_001_138602451335454_1169970955381759.pickle', 10],\n",
    "    [root_folder+'data_08102019_002_138602451335454_1321903118749878.pickle', 50],\n",
    "    [root_folder+'data_08102019_003_138602451335454_960136893984894.pickle', 100],\n",
    "    [root_folder+'data_08102019_004_138602451335454_1481253755509509.pickle', 200],\n",
    "    [root_folder+'data_08102019_005_138602451335454_727862202271457.pickle', 400],\n",
    "    [root_folder+'data_08102019_006_138602451335454_1313535972910515.pickle', 10],\n",
    "    [root_folder+'data_08102019_007_138602451335454_371631594409792.pickle', 50],\n",
    "    [root_folder+'data_08102019_008_138602451335454_868751424891853.pickle', 100],\n",
    "    [root_folder+'data_08102019_009_138602451335454_703486254832204.pickle', 200],\n",
    "    [root_folder+'data_08102019_010_138602451335454_1511031000051726.pickle', 400],\n",
    "    [root_folder+'data_09102019_001_138602451335454_569165452414563.pickle', 100],\n",
    "    [root_folder+'data_09102019_002_138602451335454_118286091383591.pickle', 200],\n",
    "    [root_folder+'data_09102019_003_138602451335454_1489691734404818.pickle', 400],\n",
    "    [root_folder+'data_09102019_004_138602451335454_860237485152227.pickle', 50],\n",
    "    [root_folder+'data_09102019_005_138602451335454_97408638229645.pickle', 10],\n",
    "    [root_folder+'data_17102019_001_138602451335454_852804856902497.pickle', 10],\n",
    "    [root_folder+'data_17102019_002_138602451335454_186964238206791.pickle', 30],\n",
    "    [root_folder+'data_17102019_003_138602451335454_1276133103064011.pickle', 5],\n",
    "    [root_folder+'data_17102019_004_138602451335454_581492886695683.pickle', 50],\n",
    "    [root_folder+'data_17102019_005_138602451335454_305304046257999.pickle', 30],\n",
    "    [root_folder+'data_17102019_006_138602451335454_39719868356339.pickle', 10],\n",
    "    [root_folder+'data_17102019_007_138602451335454_377994519229193.pickle', 30],\n",
    "    [root_folder+'data_17102019_008_138602451335454_991160979380852.pickle', 50],\n",
    "    [root_folder+'data_17102019_009_138602451335454_847686205208697.pickle', 5],\n",
    "    [root_folder+'data_17102019_010_138602451335454_127623816703061.pickle', 5],\n",
    "    [root_folder+'data_17102019_011_138602451335454_636478001521471.pickle', 30],\n",
    "    [root_folder+'data_17102019_012_138602451335454_674613561463294.pickle', 50],\n",
    "    [root_folder+'data_17102019_013_138602451335454_1258966719080540.pickle', 10],\n",
    "    [root_folder+'data_18102019_001_138602451335454_286280299871190.pickle', 10],\n",
    "    [root_folder+'data_18102019_002_138602451335454_193021631601171.pickle', 50],\n",
    "    [root_folder+'data_18102019_003_138602451335454_1260614952293101.pickle', 30],\n",
    "    [root_folder+'data_18102019_004_138602451335454_143353481683699.pickle', 5]\n",
    "]"
   ]
  },
  {
   "cell_type": "code",
   "execution_count": 1,
   "metadata": {},
   "outputs": [],
   "source": [
    "###### gruop the barplots, of find a way to use diferent datasets (eventyally, do that manually in inkscape)\n",
    "ccmethod = 'zncc'\n",
    "datas.sort(key=lambda x:x[1])\n",
    "df = pd.DataFrame(columns=['dataset','exposure','couplings'])\n",
    "\n",
    "\n",
    "for picklesource, exposure in datas:\n",
    "    filehandler = open(picklesource, 'rb')\n",
    "    [extr_traces, extr_footprints, dpars] = pickle.load(filehandler)\n",
    "    filehandler.close()\n",
    "    gt = rootff+picklesource.split('/')[-1].split('_')[1] + os.sep+ '_'.join((picklesource.split('/')[-1]).split('_')[:3])+'_gt.mat'                     \n",
    "    grtrh_traces = spkstf.extract_traces_from_mat(gt)\n",
    "    grtrh_traces_cut = grtrh_traces[:,dpars['gt_frame_start']:dpars['gt_frame_start']+dpars['frames_no']]\n",
    "    try:\n",
    "        couplings = np.array(spkstf.find_trace_couplings(grtrh_traces, extr_traces, method=ccmethod))\n",
    "    except IndexError:\n",
    "        print('error on :'+picklesource)\n",
    "        \n",
    "    # populate the dataframe\n",
    "    for cc in couplings[:,2]:\n",
    "        df = df.append({\n",
    "            'dataset':':'.join(picklesource.split('_')[1:2]),\n",
    "            'exposure':exposure,\n",
    "            'couplings':cc\n",
    "        }, ignore_index=True)"
   ]
  },
  {
   "cell_type": "code",
   "execution_count": 9,
   "metadata": {},
   "outputs": [
    {
     "data": {
      "image/png": "[encoded data removed]",
      "text/plain": [
       "<Figure size 576x432 with 1 Axes>"
      ]
     },
     "metadata": {},
     "output_type": "display_data"
    }
   ],
   "source": [
    "fig = plt.figure(figsize=(8,4))\n",
    "\n",
    "sns.set(style=\"whitegrid\", palette=\"colorblind\")\n",
    "\n",
    "tips = sns.load_dataset(\"tips\")\n",
    "\n",
    "# Draw a nested boxplot to show bills by day and time\n",
    "ax = sns.boxplot(x=\"exposure\", y=\"couplings\", data=df,\n",
    "#             hue=\"dataset\",\n",
    "            showfliers=False)\n",
    "sns.despine(offset=10, trim=True)\n",
    "\n",
    "plt.xlabel('exposure time [ms]')\n",
    "if ccmethod=='zncc':\n",
    "    plt.ylabel('z.n. cross correlation')\n",
    "elif ccmethod=='pcc':\n",
    "    plt.ylabel('pearson cross correlation')\n",
    "plt.show()\n",
    "fig.savefig(rootff+'neurons_SNR_'+ccmethod+'.pdf', transparent=True, dpi=1200)"
   ]
  }
 ],
 "metadata": {
  "kernelspec": {
   "display_name": "Python 3",
   "language": "python",
   "name": "python3"
  },
  "language_info": {
   "codemirror_mode": {
    "name": "ipython",
    "version": 3
   },
   "file_extension": ".py",
   "mimetype": "text/x-python",
   "name": "python",
   "nbconvert_exporter": "python",
   "pygments_lexer": "ipython3",
   "version": "3.5.2"
  }
 },
 "nbformat": 4,
 "nbformat_minor": 2
}

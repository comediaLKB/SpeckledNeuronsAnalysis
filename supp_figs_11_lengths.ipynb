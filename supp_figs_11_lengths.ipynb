{
 "cells": [
  {
   "cell_type": "code",
   "execution_count": 1,
   "metadata": {},
   "outputs": [],
   "source": [
    "%load_ext autoreload\n",
    "%autoreload 2\n",
    "\n",
    "import numpy as np\n",
    "import matplotlib.pyplot as plt\n",
    "import matplotlib as mpl\n",
    "import pandas as pd\n",
    "import seaborn as sns\n",
    "import matplotlib.cm as cm\n",
    "import speckle_stuffs as spkstf\n",
    "import pickle\n",
    "import scipy\n",
    "import os\n",
    "import pandas as pd\n",
    "import seaborn as sns\n",
    "sns.set()"
   ]
  },
  {
   "cell_type": "code",
   "execution_count": 3,
   "metadata": {},
   "outputs": [],
   "source": [
    "rootff = ''\n",
    "root_folder = rootff+'/137244019397880/'\n",
    "pickles = [root_folder+ff for ff in os.listdir(root_folder) if ff.split('.')[-1]=='pickle']\n",
    "pickles.sort()"
   ]
  },
  {
   "cell_type": "code",
   "execution_count": 4,
   "metadata": {},
   "outputs": [
    {
     "name": "stderr",
     "output_type": "stream",
     "text": [
      "/home/moro/git_stuffs/SpeckledFluoImagingAnalisys/speckle_stuffs.py:52: RuntimeWarning: divide by zero encountered in double_scalars\n",
      "  (1./(np.std(img1)*np.std(img2)))*(img1-np.mean(img1))*(img2-np.mean(img2))\n",
      "/home/moro/git_stuffs/SpeckledFluoImagingAnalisys/speckle_stuffs.py:52: RuntimeWarning: invalid value encountered in multiply\n",
      "  (1./(np.std(img1)*np.std(img2)))*(img1-np.mean(img1))*(img2-np.mean(img2))\n",
      "/usr/local/lib/python3.5/dist-packages/numpy/core/fromnumeric.py:83: RuntimeWarning: invalid value encountered in reduce\n",
      "  return ufunc.reduce(obj, axis, dtype, out, **passkwargs)\n"
     ]
    }
   ],
   "source": [
    "ccmethod = 'zncc'\n",
    "\n",
    "df = pd.DataFrame(columns=['dataset','frames_no','couplings'])\n",
    "\n",
    "for picklesource in pickles:\n",
    "    filehandler = open(picklesource, 'rb')\n",
    "    [extr_traces, extr_footprints, dpars] = pickle.load(filehandler)\n",
    "    filehandler.close()\n",
    "    gt = rootff+picklesource.split('/')[-1].split('_')[1] + os.sep+ '_'.join((picklesource.split('/')[-1]).split('_')[:3])+'_gt.mat'                     \n",
    "    grtrh_traces = spkstf.extract_traces_from_mat(gt)\n",
    "    # select only the datasets with 20 traces\n",
    "    if len(grtrh_traces) != 20: continue\n",
    "    # cut the ground truth traces to take only the frames used for reconstruction\n",
    "    grtrh_traces_cut = grtrh_traces[:,dpars['gt_frame_start']:dpars['gt_frame_start']+dpars['frames_no']]\n",
    "    couplings = np.array(spkstf.find_trace_couplings(grtrh_traces_cut, extr_traces, method=ccmethod))\n",
    "    \n",
    "    datatemp = np.zeros(2200)\n",
    "    # populate the dataframe\n",
    "    for cc in couplings[:,2]:\n",
    "        datatemp[dpars['frames_no']] = datatemp[dpars['frames_no']]+1\n",
    "        df = df.append({\n",
    "            'dataset':datatemp[dpars['frames_no']],\n",
    "            'frames_no':int(dpars['frames_no']),\n",
    "            'couplings':cc\n",
    "        }, ignore_index=True)\n",
    "        \n",
    "# take a look at the traces\n",
    "#     spkstf.plot_components_and_gt(extr_traces, extr_footprints, grtrh_traces_cut, couplings=couplings, show_thr=0.7)"
   ]
  },
  {
   "cell_type": "code",
   "execution_count": 5,
   "metadata": {},
   "outputs": [
    {
     "name": "stderr",
     "output_type": "stream",
     "text": [
      "/usr/local/lib/python3.5/dist-packages/scipy/stats/stats.py:1706: FutureWarning: Using a non-tuple sequence for multidimensional indexing is deprecated; use `arr[tuple(seq)]` instead of `arr[seq]`. In the future this will be interpreted as an array index, `arr[np.array(seq)]`, which will result either in an error or a different result.\n",
      "  return np.add.reduce(sorted[indexer] * weights, axis=axis) / sumval\n"
     ]
    },
    {
     "data": {
      "image/png": "[encoded data removed]",
      "text/plain": [
       "<Figure size 576x432 with 1 Axes>"
      ]
     },
     "metadata": {},
     "output_type": "display_data"
    }
   ],
   "source": [
    "fig = plt.figure(figsize=(8,6))\n",
    "sns.set(style=\"whitegrid\", palette=\"colorblind\")\n",
    "\n",
    "tips = sns.load_dataset(\"tips\")\n",
    "ax = sns.boxplot(x=\"frames_no\", y=\"couplings\", data=df, showfliers=False)\n",
    "\n",
    "sns.pointplot(x=\"frames_no\", y=\"couplings\",\n",
    "              color='#636363',\n",
    "              data=df, estimator=np.median, ax=ax)\n",
    "\n",
    "sns.despine(offset=10, trim=True)\n",
    "plt.xlabel('number of frames')\n",
    "if ccmethod=='zncc':\n",
    "    plt.ylabel('z.n. cross correlation')\n",
    "elif ccmethod=='pcc':\n",
    "    plt.ylabel('pearson cross correlation')\n",
    "\n",
    "plt.show()"
   ]
  }
 ],
 "metadata": {
  "kernelspec": {
   "display_name": "Python 3",
   "language": "python",
   "name": "python3"
  },
  "language_info": {
   "codemirror_mode": {
    "name": "ipython",
    "version": 3
   },
   "file_extension": ".py",
   "mimetype": "text/x-python",
   "name": "python",
   "nbconvert_exporter": "python",
   "pygments_lexer": "ipython3",
   "version": "3.5.2"
  }
 },
 "nbformat": 4,
 "nbformat_minor": 2
}
